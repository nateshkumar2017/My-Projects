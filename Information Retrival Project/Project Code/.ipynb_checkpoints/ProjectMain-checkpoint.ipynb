{
 "cells": [
  {
   "cell_type": "code",
   "execution_count": 90,
   "metadata": {},
   "outputs": [
    {
     "name": "stdout",
     "output_type": "stream",
     "text": [
      "282\n"
     ]
    }
   ],
   "source": [
    "import numpy as npy\n",
    "import re\n",
    "\n",
    "stopWords = [\"a\", \"about\", \"above\", \"after\", \"again\", \"against\", \"ain\", \"all\", \"am\", \"an\", \"and\", \"any\", \"are\", \"aren\", \"aren't\", \"as\", \"at\", \"be\", \"because\", \"been\", \"before\", \"being\", \"below\", \"between\", \"both\", \"but\", \"by\", \"can\", \"couldn\", \"couldn't\", \"d\", \"did\", \"didn\", \"didn't\", \"do\", \"does\", \"doesn\", \"doesn't\", \"doing\", \"don\", \"don't\", \"down\", \"during\", \"each\", \"few\", \"for\", \"from\", \"further\", \"had\", \"hadn\", \"hadn't\", \"has\", \"hasn\", \"hasn't\", \"have\", \"haven\", \"haven't\", \"having\", \"he\", \"her\", \"here\", \"hers\", \"herself\", \"him\", \"himself\", \"his\", \"how\", \"i\", \"if\", \"in\", \"into\", \"is\", \"isn\", \"isn't\", \"it\", \"it's\", \"its\", \"itself\", \"just\", \"ll\", \"m\", \"ma\", \"me\", \"mightn\", \"mightn't\", \"more\", \"most\", \"mustn\", \"mustn't\", \"my\", \"myself\", \"needn\", \"needn't\", \"no\", \"nor\", \"not\", \"now\", \"o\", \"of\", \"off\", \"on\", \"once\", \"only\", \"or\", \"other\", \"our\", \"ours\", \"ourselves\", \"out\", \"over\", \"own\", \"re\", \"s\", \"same\", \"shan\", \"shan't\", \"she\", \"she's\", \"should\", \"should've\", \"shouldn\", \"shouldn't\", \"so\", \"some\", \"such\", \"t\", \"than\", \"that\", \"that'll\", \"the\", \"their\", \"theirs\", \"them\", \"themselves\", \"then\", \"there\", \"these\", \"they\", \"this\", \"those\", \"through\", \"to\", \"too\", \"under\", \"until\", \"up\", \"ve\", \"very\", \"was\", \"wasn\", \"wasn't\", \"we\", \"were\", \"weren\", \"weren't\", \"what\", \"when\", \"where\", \"which\", \"while\", \"who\", \"whom\", \"why\", \"will\", \"with\", \"won\", \"won't\", \"wouldn\", \"wouldn't\", \"y\", \"you\", \"you'd\", \"you'll\", \"you're\", \"you've\", \"your\", \"yours\", \"yourself\", \"yourselves\", \"could\", \"he'd\", \"he'll\", \"he's\", \"here's\", \"how's\", \"i'd\", \"i'll\", \"i'm\", \"i've\", \"let's\", \"ought\", \"she'd\", \"she'll\", \"that's\", \"there's\", \"they'd\", \"they'll\", \"they're\", \"they've\", \"we'd\", \"we'll\", \"we're\", \"we've\", \"what's\", \"when's\", \"where's\", \"who's\", \"why's\", \"would\"]\n",
    "\n",
    "\n",
    "\n",
    "datasetDict = []\n",
    "def importDataFromFile():\n",
    "    import csv\n",
    "    with open ('Medical_Dataset.csv') as csvfile:\n",
    "        \n",
    "        readFile = csv.reader(csvfile, delimiter=',')\n",
    "        \n",
    "        fileData = []\n",
    "        for line in readFile:      \n",
    "            fileData.append(line)\n",
    "    return fileData\n",
    "\n",
    "DocId= []\n",
    "def Tokenizing_data():    \n",
    "    data = importDataFromFile()\n",
    "    c=0\n",
    "    for d in data:        \n",
    "        \n",
    "        symptom = d[0].split(' ')\n",
    "        disease = d[1]\n",
    "        treatment = d[2].split(' ')\n",
    "      #  print (treatment)\n",
    "        for s in symptom:\n",
    "            datasetDict.append(s)\n",
    "            DocId.append(c)\n",
    "        datasetDict.append(disease)\n",
    "        DocId.append(c)\n",
    "        for t in treatment:\n",
    "            datasetDict.append(t)\n",
    "            DocId.append(c)\n",
    "        c= c+1\n",
    "#    print (datasetDict)\n",
    "Tokenizing_data()\n",
    "\n",
    "def convertLowercase(data):\n",
    "    return npy.char.lower(data)\n",
    "def removeNullvalues(data):\n",
    "    temp=[];\n",
    "    for d in data:\n",
    "        if d != '':\n",
    "            temp.append(d)   \n",
    "    return temp\n",
    "def removeStopWords(data):\n",
    "    temp=[];\n",
    "    for d in data:\n",
    "        if d not in stopWords:\n",
    "            temp.append(d)\n",
    "    return temp\n",
    "def preprocessingData(data):\n",
    "    data = convertLowercase(data)   \n",
    "    data = removeNullvalues(data)\n",
    "    data = removeStopWords(data)\n",
    "    return data\n",
    "print (len(preprocessingData(datasetDict)))\n",
    "#print (len(datasetDict))\n",
    "#print (datasetDict)"
   ]
  },
  {
   "cell_type": "code",
   "execution_count": null,
   "metadata": {},
   "outputs": [],
   "source": [
    "thistuple = (\"apple\",\"apple\" ,\"banana\", \"cherry\")\n",
    "\n",
    "for x in thistuple:\n",
    "  print(x)"
   ]
  },
  {
   "cell_type": "code",
   "execution_count": null,
   "metadata": {},
   "outputs": [],
   "source": []
  }
 ],
 "metadata": {
  "kernelspec": {
   "display_name": "Python 3",
   "language": "python",
   "name": "python3"
  },
  "language_info": {
   "codemirror_mode": {
    "name": "ipython",
    "version": 3
   },
   "file_extension": ".py",
   "mimetype": "text/x-python",
   "name": "python",
   "nbconvert_exporter": "python",
   "pygments_lexer": "ipython3",
   "version": "3.7.3"
  }
 },
 "nbformat": 4,
 "nbformat_minor": 2
}
