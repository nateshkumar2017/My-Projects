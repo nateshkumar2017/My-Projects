{
 "cells": [
  {
   "cell_type": "code",
   "execution_count": 82,
   "metadata": {},
   "outputs": [
    {
     "name": "stdout",
     "output_type": "stream",
     "text": [
      "3\n"
     ]
    },
    {
     "ename": "KeyError",
     "evalue": "3",
     "output_type": "error",
     "traceback": [
      "\u001b[1;31m---------------------------------------------------------------------------\u001b[0m",
      "\u001b[1;31mKeyError\u001b[0m                                  Traceback (most recent call last)",
      "\u001b[1;32m<ipython-input-82-cad1c33add85>\u001b[0m in \u001b[0;36m<module>\u001b[1;34m\u001b[0m\n\u001b[0;32m    106\u001b[0m             \u001b[0mprint\u001b[0m \u001b[1;33m(\u001b[0m\u001b[0mk\u001b[0m\u001b[1;33m[\u001b[0m\u001b[1;36m0\u001b[0m\u001b[1;33m]\u001b[0m\u001b[1;33m)\u001b[0m\u001b[1;33m\u001b[0m\u001b[1;33m\u001b[0m\u001b[0m\n\u001b[0;32m    107\u001b[0m             \u001b[0mqueryW\u001b[0m\u001b[1;33m[\u001b[0m\u001b[0mint\u001b[0m\u001b[1;33m(\u001b[0m\u001b[0mk\u001b[0m\u001b[1;33m[\u001b[0m\u001b[1;36m0\u001b[0m\u001b[1;33m]\u001b[0m\u001b[1;33m)\u001b[0m\u001b[1;33m]\u001b[0m\u001b[1;33m+=\u001b[0m\u001b[0mtfIdf\u001b[0m\u001b[1;33m[\u001b[0m\u001b[0mk\u001b[0m\u001b[1;33m]\u001b[0m\u001b[1;33m\u001b[0m\u001b[1;33m\u001b[0m\u001b[0m\n\u001b[1;32m--> 108\u001b[1;33m \u001b[0mmatchingScore\u001b[0m\u001b[1;33m(\u001b[0m\u001b[1;34m'headache'\u001b[0m\u001b[1;33m)\u001b[0m\u001b[1;33m\u001b[0m\u001b[1;33m\u001b[0m\u001b[0m\n\u001b[0m\u001b[0;32m    109\u001b[0m \u001b[1;33m\u001b[0m\u001b[0m\n",
      "\u001b[1;32m<ipython-input-82-cad1c33add85>\u001b[0m in \u001b[0;36mmatchingScore\u001b[1;34m(query)\u001b[0m\n\u001b[0;32m    105\u001b[0m         \u001b[1;32mif\u001b[0m \u001b[0mk\u001b[0m\u001b[1;33m[\u001b[0m\u001b[1;36m1\u001b[0m\u001b[1;33m]\u001b[0m \u001b[1;32min\u001b[0m \u001b[0mtokens\u001b[0m\u001b[1;33m:\u001b[0m\u001b[1;33m\u001b[0m\u001b[1;33m\u001b[0m\u001b[0m\n\u001b[0;32m    106\u001b[0m             \u001b[0mprint\u001b[0m \u001b[1;33m(\u001b[0m\u001b[0mk\u001b[0m\u001b[1;33m[\u001b[0m\u001b[1;36m0\u001b[0m\u001b[1;33m]\u001b[0m\u001b[1;33m)\u001b[0m\u001b[1;33m\u001b[0m\u001b[1;33m\u001b[0m\u001b[0m\n\u001b[1;32m--> 107\u001b[1;33m             \u001b[0mqueryW\u001b[0m\u001b[1;33m[\u001b[0m\u001b[0mint\u001b[0m\u001b[1;33m(\u001b[0m\u001b[0mk\u001b[0m\u001b[1;33m[\u001b[0m\u001b[1;36m0\u001b[0m\u001b[1;33m]\u001b[0m\u001b[1;33m)\u001b[0m\u001b[1;33m]\u001b[0m\u001b[1;33m+=\u001b[0m\u001b[0mtfIdf\u001b[0m\u001b[1;33m[\u001b[0m\u001b[0mk\u001b[0m\u001b[1;33m]\u001b[0m\u001b[1;33m\u001b[0m\u001b[1;33m\u001b[0m\u001b[0m\n\u001b[0m\u001b[0;32m    108\u001b[0m \u001b[0mmatchingScore\u001b[0m\u001b[1;33m(\u001b[0m\u001b[1;34m'headache'\u001b[0m\u001b[1;33m)\u001b[0m\u001b[1;33m\u001b[0m\u001b[1;33m\u001b[0m\u001b[0m\n\u001b[0;32m    109\u001b[0m \u001b[1;33m\u001b[0m\u001b[0m\n",
      "\u001b[1;31mKeyError\u001b[0m: 3"
     ]
    }
   ],
   "source": [
    "import numpy as npy\n",
    "import re\n",
    "\n",
    "stopWords = [\"a\", \"about\", \"above\", \"after\", \"again\", \"against\", \"ain\", \"all\", \"am\", \"an\", \"and\", \"any\", \"are\", \"aren\", \"aren't\", \"as\", \"at\", \"be\", \"because\", \"been\", \"before\", \"being\", \"below\", \"between\", \"both\", \"but\", \"by\", \"can\", \"couldn\", \"couldn't\", \"d\", \"did\", \"didn\", \"didn't\", \"do\", \"does\", \"doesn\", \"doesn't\", \"doing\", \"don\", \"don't\", \"down\", \"during\", \"each\", \"few\", \"for\", \"from\", \"further\", \"had\", \"hadn\", \"hadn't\", \"has\", \"hasn\", \"hasn't\", \"have\", \"haven\", \"haven't\", \"having\", \"he\", \"her\", \"here\", \"hers\", \"herself\", \"him\", \"himself\", \"his\", \"how\", \"i\", \"if\", \"in\", \"into\", \"is\", \"isn\", \"isn't\", \"it\", \"it's\", \"its\", \"itself\", \"just\", \"ll\", \"m\", \"ma\", \"me\", \"mightn\", \"mightn't\", \"more\", \"most\", \"mustn\", \"mustn't\", \"my\", \"myself\", \"needn\", \"needn't\", \"no\", \"nor\", \"not\", \"now\", \"o\", \"of\", \"off\", \"on\", \"once\", \"only\", \"or\", \"other\", \"our\", \"ours\", \"ourselves\", \"out\", \"over\", \"own\", \"re\", \"s\", \"same\", \"shan\", \"shan't\", \"she\", \"she's\", \"should\", \"should've\", \"shouldn\", \"shouldn't\", \"so\", \"some\", \"such\", \"t\", \"than\", \"that\", \"that'll\", \"the\", \"their\", \"theirs\", \"them\", \"themselves\", \"then\", \"there\", \"these\", \"they\", \"this\", \"those\", \"through\", \"to\", \"too\", \"under\", \"until\", \"up\", \"ve\", \"very\", \"was\", \"wasn\", \"wasn't\", \"we\", \"were\", \"weren\", \"weren't\", \"what\", \"when\", \"where\", \"which\", \"while\", \"who\", \"whom\", \"why\", \"will\", \"with\", \"won\", \"won't\", \"wouldn\", \"wouldn't\", \"y\", \"you\", \"you'd\", \"you'll\", \"you're\", \"you've\", \"your\", \"yours\", \"yourself\", \"yourselves\", \"could\", \"he'd\", \"he'll\", \"he's\", \"here's\", \"how's\", \"i'd\", \"i'll\", \"i'm\", \"i've\", \"let's\", \"ought\", \"she'd\", \"she'll\", \"that's\", \"there's\", \"they'd\", \"they'll\", \"they're\", \"they've\", \"we'd\", \"we'll\", \"we're\", \"we've\", \"what's\", \"when's\", \"where's\", \"who's\", \"why's\", \"would\"]\n",
    "\n",
    "\n",
    "\n",
    "datasetDict = []\n",
    "DocFreq = {}\n",
    "vocabulary = []\n",
    "tfIdf = {}\n",
    "\n",
    "def importDataFromFile():\n",
    "    import csv\n",
    "    with open ('Medical_Dataset.csv') as csvfile:\n",
    "        \n",
    "        readFile = csv.reader(csvfile, delimiter=',')\n",
    "        \n",
    "        fileData = []\n",
    "        for line in readFile:      \n",
    "            fileData.append((line))\n",
    "    return fileData\n",
    "\n",
    "def Tokenizing_data():\n",
    "    \n",
    "    data = importDataFromFile()\n",
    "    for d in data:\n",
    "        temp = \"\";\n",
    "        symptom = d[0].split(' ')\n",
    "        disease = d[1]\n",
    "        treatment = d[2].split(' ')\n",
    "        for s in symptom:\n",
    "            temp= temp+\" \"+s  \n",
    "        temp= temp+\" \"+disease\n",
    "        for t in treatment:\n",
    "            temp= temp+\" \"+t\n",
    "        datasetDict.append(temp)\n",
    "#    print (datasetDict)\n",
    "Tokenizing_data()\n",
    "\n",
    "def convertLowercase(data):\n",
    "    temp=\"\";\n",
    "    for d in data:\n",
    "        temp =temp+ \" \"+d.lower()\n",
    "    return temp.strip()\n",
    "def removeNullvalues(data):\n",
    "    temp=\"\";\n",
    "    for d in data:\n",
    "        if d != '':\n",
    "            temp= temp+\" \"+d   \n",
    "    return temp.strip()\n",
    "def removeStopWords(data):\n",
    "    temp=\"\";\n",
    "    for d in data:\n",
    "        if d not in stopWords:\n",
    "            temp=temp+\" \"+d\n",
    "    return temp.strip()\n",
    "def preprocessingData(data):\n",
    "    for i in range (len(datasetDict)):\n",
    "        data[i] = convertLowercase(data[i].split(' '))   \n",
    "        data[i] = removeNullvalues(data[i].split(' '))\n",
    "        data[i] = removeStopWords(data[i].split(' '))\n",
    "    return data\n",
    "preprocessingData(datasetDict)\n",
    "def CalculateDocFreq():\n",
    "    for j in range (len(datasetDict)):\n",
    "        data = datasetDict[j].split(' ')\n",
    "        for w in data:\n",
    "            try:\n",
    "                DocFreq[w].add(j)\n",
    "            except:\n",
    "                DocFreq[w] = {j}\n",
    "        \n",
    "    for k in DocFreq:\n",
    "            DocFreq[k] = len(DocFreq[k])\n",
    "CalculateDocFreq()\n",
    "\n",
    "def defineVocabulary():\n",
    "    for v in DocFreq:\n",
    "        vocabulary.append(v)\n",
    "defineVocabulary()\n",
    "\n",
    "x = ['Apple', 'Apple', 'Orange']\n",
    "def Counter(data):\n",
    "    temp = {x:data.count(x) for x in data}\n",
    "    return temp\n",
    "\n",
    "N = len(datasetDict)\n",
    "def calculateTfIdf():\n",
    "    for k in range (N):\n",
    "        data = datasetDict[k].split(' ')\n",
    "        counter = Counter(data)\n",
    "        for t in npy.unique(data):\n",
    "            termfreq = counter[t]/len(data)\n",
    "            docfreq = DocFreq[t]\n",
    "            invdocfreq = npy.log(N/(docfreq+1))\n",
    "            tfIdf [k,t] = termfreq*docfreq\n",
    "\n",
    "calculateTfIdf()\n",
    "queryW={}\n",
    "def matchingScore(query):\n",
    "    tokens =  query.split(' ')\n",
    "    for k in tfIdf:\n",
    "        #print (k[1])\n",
    "        if k[1] in tokens:\n",
    "            print (k[0])\n",
    "            queryW[k[0]]+=tfIdf[k]\n",
    "matchingScore('headache')\n",
    "            "
   ]
  },
  {
   "cell_type": "code",
   "execution_count": 4,
   "metadata": {},
   "outputs": [
    {
     "name": "stdout",
     "output_type": "stream",
     "text": [
      "apple\n",
      "apple\n",
      "banana\n",
      "cherry\n"
     ]
    }
   ],
   "source": [
    "thistuple = (\"apple\",\"apple\" ,\"banana\", \"cherry\")\n",
    "\n",
    "for x in thistuple:\n",
    "  print(x)"
   ]
  },
  {
   "cell_type": "code",
   "execution_count": null,
   "metadata": {},
   "outputs": [],
   "source": []
  }
 ],
 "metadata": {
  "kernelspec": {
   "display_name": "Python 3",
   "language": "python",
   "name": "python3"
  },
  "language_info": {
   "codemirror_mode": {
    "name": "ipython",
    "version": 3
   },
   "file_extension": ".py",
   "mimetype": "text/x-python",
   "name": "python",
   "nbconvert_exporter": "python",
   "pygments_lexer": "ipython3",
   "version": "3.7.3"
  }
 },
 "nbformat": 4,
 "nbformat_minor": 2
}
